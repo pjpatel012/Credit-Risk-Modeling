{
 "cells": [
  {
   "cell_type": "markdown",
   "metadata": {},
   "source": [
    "## Credit Risk Modeling Case Study  <br>\n",
    "Submitted By: Paras Patel <br>\n",
    "Date: December 4, 2019"
   ]
  },
  {
   "cell_type": "markdown",
   "metadata": {},
   "source": [
    "### Table of Contents ###\n",
    "<ul>\n",
    "<li><a href=\"#Project Overview\">Project Overview</a></li>\n",
    "<li><a href=\"#Data Gathering\">Data Gathering</a></li>\n",
    "<li><a href=\"#Data Pre-Processing\">Data Pre-Processing</a></li>\n",
    "<li><a href=\"#Feature Selection\">Feature Selection</a></li>\n",
    "<li><a href=\"#LDA-SVM\">Model 1 - Linear Discriminant Analysis / Support Vector Machine Classifier</a></li>\n",
    "<li><a href=\"#Random Forest\">Model 2 - Random Forest Classifier</a></li>\n",
    "<li><a href=\"#Regression\">Model 3 - Regression Model to Estimate Losses (Risk Assessment)</a></li>\n",
    "<li><a href=\"#Final\">Final Dataframe - Results</a></li>\n",
    "</ul>"
   ]
  },
  {
   "cell_type": "markdown",
   "metadata": {},
   "source": [
    "<a id='Project Overview'></a>\n",
    "### Project Overview ###\n",
    "\n",
    "Prosper Loan is a peer to peer marketplace that provides unsecured personal loans to interested borrowers and lenders looking to invest. Creditors can invest anywhere from 2,000 USD - 40,000 USD. The goal of this analysis is to assess and quantify risk of on-going and future loans.\n",
    "\n",
    "To achieve this, a supervised machine learning algorithm was used to classify the outcome of a loan (successfully completed or defaulted). 2 methods were considered: 1) Using a wrapper (Linear Discriminant Analysis) for feature reduction and overlaying an SVM classifier and 2) A Random Forest Tree classifier.\n",
    "\n",
    "The predictions of the classifier are then queried for loans labeled as 'Defaulted' (high-risk) and fitted to a regression model to estimate potential losses associated with the loan. \n",
    "\n",
    "To summarize, models in this study will answer the following questions:\n",
    "\n",
    "1.  **Which borrowers/customers at Prosper Loan are currently high risk, based on individual background/financial features?** <br>\n",
    "2.  **What are the potential losses on future loans based on borrower's background/financial features?** <br>\n",
    "3. **What are the top predictor variables that influence loan outcome and how significant are they?** <br>"
   ]
  },
  {
   "cell_type": "markdown",
   "metadata": {},
   "source": [
    "<a id='Data Gathering'></a>\n",
    "### Data Gathering ###"
   ]
  },
  {
   "cell_type": "code",
   "execution_count": 1,
   "metadata": {},
   "outputs": [],
   "source": [
    "# Import Libraries for Data Wrangling And Visualizations\n",
    "import pandas as pd\n",
    "import numpy as np\n",
    "from time import time\n",
    "\n",
    "import matplotlib.pyplot as plt\n",
    "%matplotlib inline\n",
    "import seaborn as sb\n",
    "\n",
    "import warnings\n",
    "warnings.filterwarnings('ignore')"
   ]
  },
  {
   "cell_type": "markdown",
   "metadata": {},
   "source": [
    "42 columns removed as non discrimating features."
   ]
  },
  {
   "cell_type": "code",
   "execution_count": 2,
   "metadata": {
    "scrolled": false
   },
   "outputs": [
    {
     "data": {
      "text/html": [
       "<div>\n",
       "<style scoped>\n",
       "    .dataframe tbody tr th:only-of-type {\n",
       "        vertical-align: middle;\n",
       "    }\n",
       "\n",
       "    .dataframe tbody tr th {\n",
       "        vertical-align: top;\n",
       "    }\n",
       "\n",
       "    .dataframe thead th {\n",
       "        text-align: right;\n",
       "    }\n",
       "</style>\n",
       "<table border=\"1\" class=\"dataframe\">\n",
       "  <thead>\n",
       "    <tr style=\"text-align: right;\">\n",
       "      <th></th>\n",
       "      <th>ListingKey</th>\n",
       "      <th>Term</th>\n",
       "      <th>LoanStatus</th>\n",
       "      <th>BorrowerAPR</th>\n",
       "      <th>LenderYield</th>\n",
       "      <th>EmploymentStatus</th>\n",
       "      <th>IsBorrowerHomeowner</th>\n",
       "      <th>CreditScoreRangeLower</th>\n",
       "      <th>CurrentCreditLines</th>\n",
       "      <th>OpenCreditLines</th>\n",
       "      <th>...</th>\n",
       "      <th>ProsperPaymentsLessThanOneMonthLate</th>\n",
       "      <th>ProsperPaymentsOneMonthPlusLate</th>\n",
       "      <th>ProsperPrincipalBorrowed</th>\n",
       "      <th>ProsperPrincipalOutstanding</th>\n",
       "      <th>LoanFirstDefaultedCycleNumber</th>\n",
       "      <th>LoanOriginalAmount</th>\n",
       "      <th>MonthlyLoanPayment</th>\n",
       "      <th>LP_CustomerPayments</th>\n",
       "      <th>LP_CustomerPrincipalPayments</th>\n",
       "      <th>LP_GrossPrincipalLoss</th>\n",
       "    </tr>\n",
       "  </thead>\n",
       "  <tbody>\n",
       "    <tr>\n",
       "      <td>0</td>\n",
       "      <td>1021339766868145413AB3B</td>\n",
       "      <td>36</td>\n",
       "      <td>Completed</td>\n",
       "      <td>0.16516</td>\n",
       "      <td>0.1380</td>\n",
       "      <td>Self-employed</td>\n",
       "      <td>True</td>\n",
       "      <td>640.0</td>\n",
       "      <td>5.0</td>\n",
       "      <td>4.0</td>\n",
       "      <td>...</td>\n",
       "      <td>NaN</td>\n",
       "      <td>NaN</td>\n",
       "      <td>NaN</td>\n",
       "      <td>NaN</td>\n",
       "      <td>NaN</td>\n",
       "      <td>9425</td>\n",
       "      <td>330.43</td>\n",
       "      <td>11396.14</td>\n",
       "      <td>9425.00</td>\n",
       "      <td>0.0</td>\n",
       "    </tr>\n",
       "    <tr>\n",
       "      <td>1</td>\n",
       "      <td>10273602499503308B223C1</td>\n",
       "      <td>36</td>\n",
       "      <td>Current</td>\n",
       "      <td>0.12016</td>\n",
       "      <td>0.0820</td>\n",
       "      <td>Employed</td>\n",
       "      <td>False</td>\n",
       "      <td>680.0</td>\n",
       "      <td>14.0</td>\n",
       "      <td>14.0</td>\n",
       "      <td>...</td>\n",
       "      <td>NaN</td>\n",
       "      <td>NaN</td>\n",
       "      <td>NaN</td>\n",
       "      <td>NaN</td>\n",
       "      <td>NaN</td>\n",
       "      <td>10000</td>\n",
       "      <td>318.93</td>\n",
       "      <td>0.00</td>\n",
       "      <td>0.00</td>\n",
       "      <td>0.0</td>\n",
       "    </tr>\n",
       "    <tr>\n",
       "      <td>2</td>\n",
       "      <td>0EE9337825851032864889A</td>\n",
       "      <td>36</td>\n",
       "      <td>Completed</td>\n",
       "      <td>0.28269</td>\n",
       "      <td>0.2400</td>\n",
       "      <td>Not available</td>\n",
       "      <td>False</td>\n",
       "      <td>480.0</td>\n",
       "      <td>NaN</td>\n",
       "      <td>NaN</td>\n",
       "      <td>...</td>\n",
       "      <td>NaN</td>\n",
       "      <td>NaN</td>\n",
       "      <td>NaN</td>\n",
       "      <td>NaN</td>\n",
       "      <td>NaN</td>\n",
       "      <td>3001</td>\n",
       "      <td>123.32</td>\n",
       "      <td>4186.63</td>\n",
       "      <td>3001.00</td>\n",
       "      <td>0.0</td>\n",
       "    </tr>\n",
       "    <tr>\n",
       "      <td>3</td>\n",
       "      <td>0EF5356002482715299901A</td>\n",
       "      <td>36</td>\n",
       "      <td>Current</td>\n",
       "      <td>0.12528</td>\n",
       "      <td>0.0874</td>\n",
       "      <td>Employed</td>\n",
       "      <td>True</td>\n",
       "      <td>800.0</td>\n",
       "      <td>5.0</td>\n",
       "      <td>5.0</td>\n",
       "      <td>...</td>\n",
       "      <td>NaN</td>\n",
       "      <td>NaN</td>\n",
       "      <td>NaN</td>\n",
       "      <td>NaN</td>\n",
       "      <td>NaN</td>\n",
       "      <td>10000</td>\n",
       "      <td>321.45</td>\n",
       "      <td>5143.20</td>\n",
       "      <td>4091.09</td>\n",
       "      <td>0.0</td>\n",
       "    </tr>\n",
       "    <tr>\n",
       "      <td>4</td>\n",
       "      <td>0F023589499656230C5E3E2</td>\n",
       "      <td>36</td>\n",
       "      <td>Current</td>\n",
       "      <td>0.24614</td>\n",
       "      <td>0.1985</td>\n",
       "      <td>Employed</td>\n",
       "      <td>True</td>\n",
       "      <td>680.0</td>\n",
       "      <td>19.0</td>\n",
       "      <td>19.0</td>\n",
       "      <td>...</td>\n",
       "      <td>0.0</td>\n",
       "      <td>0.0</td>\n",
       "      <td>11000.0</td>\n",
       "      <td>9947.9</td>\n",
       "      <td>NaN</td>\n",
       "      <td>15000</td>\n",
       "      <td>563.97</td>\n",
       "      <td>2819.85</td>\n",
       "      <td>1563.22</td>\n",
       "      <td>0.0</td>\n",
       "    </tr>\n",
       "  </tbody>\n",
       "</table>\n",
       "<p>5 rows × 39 columns</p>\n",
       "</div>"
      ],
      "text/plain": [
       "                ListingKey  Term LoanStatus  BorrowerAPR  LenderYield  \\\n",
       "0  1021339766868145413AB3B    36  Completed      0.16516       0.1380   \n",
       "1  10273602499503308B223C1    36    Current      0.12016       0.0820   \n",
       "2  0EE9337825851032864889A    36  Completed      0.28269       0.2400   \n",
       "3  0EF5356002482715299901A    36    Current      0.12528       0.0874   \n",
       "4  0F023589499656230C5E3E2    36    Current      0.24614       0.1985   \n",
       "\n",
       "  EmploymentStatus  IsBorrowerHomeowner  CreditScoreRangeLower  \\\n",
       "0    Self-employed                 True                  640.0   \n",
       "1         Employed                False                  680.0   \n",
       "2    Not available                False                  480.0   \n",
       "3         Employed                 True                  800.0   \n",
       "4         Employed                 True                  680.0   \n",
       "\n",
       "   CurrentCreditLines  OpenCreditLines  ...  \\\n",
       "0                 5.0              4.0  ...   \n",
       "1                14.0             14.0  ...   \n",
       "2                 NaN              NaN  ...   \n",
       "3                 5.0              5.0  ...   \n",
       "4                19.0             19.0  ...   \n",
       "\n",
       "   ProsperPaymentsLessThanOneMonthLate  ProsperPaymentsOneMonthPlusLate  \\\n",
       "0                                  NaN                              NaN   \n",
       "1                                  NaN                              NaN   \n",
       "2                                  NaN                              NaN   \n",
       "3                                  NaN                              NaN   \n",
       "4                                  0.0                              0.0   \n",
       "\n",
       "   ProsperPrincipalBorrowed  ProsperPrincipalOutstanding  \\\n",
       "0                       NaN                          NaN   \n",
       "1                       NaN                          NaN   \n",
       "2                       NaN                          NaN   \n",
       "3                       NaN                          NaN   \n",
       "4                   11000.0                       9947.9   \n",
       "\n",
       "   LoanFirstDefaultedCycleNumber  LoanOriginalAmount  MonthlyLoanPayment  \\\n",
       "0                            NaN                9425              330.43   \n",
       "1                            NaN               10000              318.93   \n",
       "2                            NaN                3001              123.32   \n",
       "3                            NaN               10000              321.45   \n",
       "4                            NaN               15000              563.97   \n",
       "\n",
       "   LP_CustomerPayments  LP_CustomerPrincipalPayments  LP_GrossPrincipalLoss  \n",
       "0             11396.14                       9425.00                    0.0  \n",
       "1                 0.00                          0.00                    0.0  \n",
       "2              4186.63                       3001.00                    0.0  \n",
       "3              5143.20                       4091.09                    0.0  \n",
       "4              2819.85                       1563.22                    0.0  \n",
       "\n",
       "[5 rows x 39 columns]"
      ]
     },
     "execution_count": 2,
     "metadata": {},
     "output_type": "execute_result"
    }
   ],
   "source": [
    "path = \"/Users/paraspatel/Desktop/Udacity/Data Analysis With R/Project/prosperLoanData1.csv\"\n",
    "df = pd.read_csv(path)\n",
    "df_copy = df.copy()\n",
    "df.head(5)"
   ]
  },
  {
   "cell_type": "markdown",
   "metadata": {},
   "source": [
    "<a id='Data Pre-Processing'></a>\n",
    "### Data Pre-Processing"
   ]
  },
  {
   "cell_type": "code",
   "execution_count": 3,
   "metadata": {
    "scrolled": true
   },
   "outputs": [
    {
     "name": "stdout",
     "output_type": "stream",
     "text": [
      "Number of columns removed = 8\n",
      "Total Columns = 31\n"
     ]
    }
   ],
   "source": [
    "# Missing Value Ratio. If feature consists of 80% or more missing values (NaN), then remove feature \n",
    "original_columns = df.shape[1]\n",
    "dropped_columns=[]\n",
    "for col in df.columns:\n",
    "    if df[col].isna().sum() / df[col].shape[0] > 0.80:\n",
    "        df.drop(col,inplace=True,axis=1)\n",
    "print('Number of columns removed =', original_columns-df.shape[1])\n",
    "print('Total Columns =',df.shape[1])"
   ]
  },
  {
   "cell_type": "code",
   "execution_count": 4,
   "metadata": {},
   "outputs": [
    {
     "data": {
      "text/plain": [
       "96366"
      ]
     },
     "execution_count": 4,
     "metadata": {},
     "output_type": "execute_result"
    }
   ],
   "source": [
    "#Drop NaN values & Duplicates\n",
    "df.dropna(inplace=True)\n",
    "df = df.drop_duplicates(keep=False)\n",
    "df.reset_index(drop=True).shape[0]"
   ]
  },
  {
   "cell_type": "code",
   "execution_count": 5,
   "metadata": {},
   "outputs": [],
   "source": [
    "#Convert True/False to 1/0 for consistency \n",
    "df['IsBorrowerHomeowner'] = df['IsBorrowerHomeowner'].apply(lambda x:1 if x == True else x)\n",
    "df['IsBorrowerHomeowner'] = df['IsBorrowerHomeowner'].apply(lambda x:0 if x == False else x)"
   ]
  },
  {
   "cell_type": "code",
   "execution_count": 6,
   "metadata": {},
   "outputs": [],
   "source": [
    "#Checkpoint 1\n",
    "df1 = df.copy()"
   ]
  },
  {
   "cell_type": "code",
   "execution_count": 7,
   "metadata": {},
   "outputs": [
    {
     "name": "stdout",
     "output_type": "stream",
     "text": [
      "New observations = 45378\n"
     ]
    }
   ],
   "source": [
    "df.loc[df['LoanStatus'].str.contains('Past'), 'LoanStatus'] = 'Past Due'\n",
    "df.loc[df['LoanStatus'].str.contains('FinalPaymentInProgress'), 'LoanStatus'] = 'Completed'\n",
    "df.loc[df['LoanStatus'].str.contains('Chargedoff'), 'LoanStatus'] = 'Defaulted'\n",
    "\n",
    "df = df[df['LoanStatus'] != 'Current']\n",
    "df = df[df['LoanStatus'] != 'Cancelled']\n",
    "\n",
    "print('New observations =',df.shape[0])"
   ]
  },
  {
   "cell_type": "markdown",
   "metadata": {},
   "source": [
    "<a id='Feature Selection'></a>\n",
    "### Feature Selection"
   ]
  },
  {
   "cell_type": "code",
   "execution_count": 8,
   "metadata": {},
   "outputs": [],
   "source": [
    "# High Correlation Filter Function\n",
    "# Assess and remove instances of collinearity between features for any linear based algorithm\n",
    "def correlation(dataset, threshold):\n",
    "    global deleted_columns\n",
    "    col_corr = set() # Set of all the names of deleted columns\n",
    "    corr_matrix = dataset.corr()\n",
    "    o_col = dataset.columns.values\n",
    "    for i in range(len(corr_matrix.columns)):\n",
    "        for j in range(i):\n",
    "            if (corr_matrix.iloc[i, j] >= threshold) and (corr_matrix.columns[j] not in col_corr):\n",
    "                colname = corr_matrix.columns[i] # getting the name of column\n",
    "                col_corr.add(colname)\n",
    "                if colname in dataset.columns:\n",
    "                    del dataset[colname] # deleting the column from the dataset\n",
    "    n_col = dataset.columns.values\n",
    "    deleted_columns = [x for x in o_col if x not in n_col]\n",
    "    return dataset"
   ]
  },
  {
   "cell_type": "code",
   "execution_count": 9,
   "metadata": {},
   "outputs": [],
   "source": [
    "#one hot encoding function\n",
    "def dummies(dataframe, col):\n",
    "    dataframe[col] = pd.Categorical(dataframe[col])\n",
    "    dfDummies = pd.get_dummies(dataframe[col],prefix='c')\n",
    "    dataframe.drop(col,inplace=True,axis=1)\n",
    "    return pd.concat([dataframe,dfDummies],axis=1)"
   ]
  },
  {
   "cell_type": "code",
   "execution_count": 10,
   "metadata": {},
   "outputs": [],
   "source": [
    "#apply one hot encoding function to following categorical predictors\n",
    "columns_df = df.columns\n",
    "\n",
    "df = dummies(df, 'EmploymentStatus')\n",
    "df = dummies(df, 'Term')"
   ]
  },
  {
   "cell_type": "code",
   "execution_count": 11,
   "metadata": {},
   "outputs": [],
   "source": [
    "#Factorize predictor variable\n",
    "factor = pd.factorize(df['LoanStatus'])\n",
    "df['LoanStatus'] = factor[0]\n",
    "definitions = factor[1] #keep track of factor definition"
   ]
  },
  {
   "cell_type": "code",
   "execution_count": 12,
   "metadata": {
    "scrolled": false
   },
   "outputs": [
    {
     "name": "stdout",
     "output_type": "stream",
     "text": [
      "['LenderYield', 'OpenCreditLines', 'TotalCreditLinespast7years', 'OpenRevolvingAccounts', 'TotalInquiries', 'RevolvingCreditBalance', 'TotalTrades', 'MonthlyLoanPayment']\n",
      "Number of Columns Deleted =  8\n"
     ]
    }
   ],
   "source": [
    "#Define features/labels\n",
    "col_list = ['LoanStatus','ListingKey','LP_CustomerPayments','LP_CustomerPrincipalPayments','LP_GrossPrincipalLoss']\n",
    "X = df.drop(col_list, axis=1)\n",
    "y = df['LoanStatus']\n",
    "\n",
    "#Apply correlation function to feature set and print dropped columns\n",
    "X = correlation(X,0.6)\n",
    "print(deleted_columns)\n",
    "print('Number of Columns Deleted = ',len(deleted_columns))"
   ]
  },
  {
   "cell_type": "markdown",
   "metadata": {},
   "source": [
    "<a id='LDA-SVM'></a>\n",
    "### Model 1 - LDA & SVM"
   ]
  },
  {
   "cell_type": "markdown",
   "metadata": {},
   "source": [
    "#### Dimensional Reduction - Linear Discriminant Analysis"
   ]
  },
  {
   "cell_type": "code",
   "execution_count": 13,
   "metadata": {},
   "outputs": [],
   "source": [
    "#Define train/test set\n",
    "from sklearn.model_selection import train_test_split\n",
    "X_train, X_test, y_train, y_test = train_test_split(X, y, test_size = 0.3, random_state = 20)\n",
    "\n",
    "#Scale data to cover any algorithms using Eucledian distance or assume's zero-centric data\n",
    "from sklearn.preprocessing import StandardScaler\n",
    "scaler = StandardScaler()\n",
    "X_train_scaled = scaler.fit_transform(X_train)\n",
    "X_test_scaled = scaler.transform(X_test)"
   ]
  },
  {
   "cell_type": "code",
   "execution_count": 14,
   "metadata": {
    "scrolled": false
   },
   "outputs": [],
   "source": [
    "#Use LDA (supervised) algorithm for feature selection - Option 1\n",
    "from sklearn.discriminant_analysis import LinearDiscriminantAnalysis\n",
    "lda = LinearDiscriminantAnalysis()\n",
    "X_lda = lda.fit_transform(X_train_scaled, y_train)"
   ]
  },
  {
   "cell_type": "code",
   "execution_count": 15,
   "metadata": {},
   "outputs": [
    {
     "data": {
      "image/png": "[encoded data removed]",
      "text/plain": [
       "<Figure size 648x504 with 1 Axes>"
      ]
     },
     "metadata": {
      "needs_background": "light"
     },
     "output_type": "display_data"
    }
   ],
   "source": [
    "#Plot LDA Results\n",
    "fig = plt.figure(figsize=[9,7])\n",
    "plt.xlabel('LDA1 (%.2f%%)' % (lda.explained_variance_ratio_[0]*100))\n",
    "plt.ylabel('LDA2 (%.2f%%)' % (lda.explained_variance_ratio_[1]*100)) \n",
    "\n",
    "scatter = plt.scatter(\n",
    "    X_lda[:,0],\n",
    "    X_lda[:,1],\n",
    "    c=y_train,\n",
    "    cmap='rainbow',\n",
    "    alpha=0.7);\n",
    "\n",
    "labels = np.unique(y)\n",
    "handles = [plt.Line2D([],[],marker=\"o\", ls=\"\", \n",
    "                      color=scatter.cmap(scatter.norm(yi))) for yi in labels]\n",
    "label = ['Completed','Past Due','Defaulted']\n",
    "plt.legend(handles, label);\n",
    "\n",
    "plt.title('Linear Discriminant Analysis Component Distribution');"
   ]
  },
  {
   "cell_type": "markdown",
   "metadata": {},
   "source": [
    "#### SVM Algorithm"
   ]
  },
  {
   "cell_type": "code",
   "execution_count": 16,
   "metadata": {},
   "outputs": [
    {
     "name": "stdout",
     "output_type": "stream",
     "text": [
      "SVM Training Time: 21.1 s \n",
      "\n",
      "[[6194    0  255]\n",
      " [ 367    0    8]\n",
      " [2239    0  467]] \n",
      "\n",
      "Accuracy: 70.48%\n"
     ]
    }
   ],
   "source": [
    "#SVM Model and Resulting Confusion Matrix and Accuracy Score\n",
    "from sklearn import model_selection\n",
    "from sklearn.metrics import confusion_matrix\n",
    "from sklearn.metrics import accuracy_score\n",
    "from sklearn import svm\n",
    "\n",
    "#Train/Test Set using components from LDA\n",
    "X_train1, X_test1, y_train1, y_test1 = train_test_split(X_lda, y_train, test_size = 0.3)\n",
    "\n",
    "#SVM Model\n",
    "t0 = time()\n",
    "clf_svm = svm.SVC(kernel = 'rbf', gamma='scale', decision_function_shape='ovo')\n",
    "clf_svm.fit(X_train1, y_train1)\n",
    "\n",
    "#Confusion Matrix (1 instance)\n",
    "y_pred_svm = clf_svm.predict(X_test1)\n",
    "print(\"SVM Training Time:\", round(time()-t0, 1), \"s \\n\")\n",
    "print(confusion_matrix(y_test1, y_pred_svm),'\\n')\n",
    "\n",
    "#Cross Validation Score\n",
    "kfold = model_selection.KFold(n_splits=4)\n",
    "results_kfold = model_selection.cross_val_score(clf_svm, X_train1, y_train1, cv=kfold)\n",
    "print(\"Accuracy: %.2f%%\" % (results_kfold.mean()*100.0))"
   ]
  },
  {
   "cell_type": "markdown",
   "metadata": {},
   "source": [
    "<a id='Random Forest'></a>\n",
    "### Model 2 - Random Forest"
   ]
  },
  {
   "cell_type": "code",
   "execution_count": 17,
   "metadata": {
    "scrolled": true
   },
   "outputs": [
    {
     "name": "stdout",
     "output_type": "stream",
     "text": [
      "RF Training Time: 7.1 s \n",
      "\n",
      "[[8735    0  573]\n",
      " [ 495    0   40]\n",
      " [2776    0  995]] \n",
      "\n",
      "Accuracy: 71.17%\n"
     ]
    }
   ],
   "source": [
    "#Random Forest Algorithm\n",
    "from sklearn.ensemble import RandomForestClassifier\n",
    "clf_rf = RandomForestClassifier(min_samples_split = 25, n_estimators = 100, criterion = 'entropy')\n",
    "t0 = time()\n",
    "clf_rf.fit(X_train, y_train)\n",
    "\n",
    "#Confusion Matrix (1 instance)\n",
    "y_pred_rf = clf_rf.predict(X_test)\n",
    "print(\"RF Training Time:\", round(time()-t0, 1), \"s \\n\")\n",
    "print(confusion_matrix(y_test, y_pred_rf),'\\n')\n",
    "\n",
    "#Cross Validation Score\n",
    "kfold = model_selection.KFold(n_splits=4)\n",
    "results_kfold = model_selection.cross_val_score(clf_rf, X_train, y_train, cv=kfold)\n",
    "print(\"Accuracy: %.2f%%\" % (results_kfold.mean()*100.0))"
   ]
  },
  {
   "cell_type": "code",
   "execution_count": 18,
   "metadata": {},
   "outputs": [
    {
     "data": {
      "image/png": "[encoded data removed]",
      "text/plain": [
       "<Figure size 576x432 with 1 Axes>"
      ]
     },
     "metadata": {
      "needs_background": "light"
     },
     "output_type": "display_data"
    }
   ],
   "source": [
    "#Rank Features and transform to Dataframe - Output Top 5\n",
    "feature_rank = pd.DataFrame(clf_rf.feature_importances_, index = X_train.columns,\n",
    "                                    columns=['Importance']).sort_values('Importance', ascending=False).reset_index()\n",
    "feature_rank.index = feature_rank.index + 1\n",
    "feature_rank = feature_rank.rename(columns={\"index\": \"Feature\"})\n",
    "\n",
    "fig = plt.figure(figsize=[8,6])\n",
    "plt.barh(feature_rank['Feature'].head(5).sort_index(ascending = False).reset_index(drop=True)\n",
    "         ,feature_rank['Importance'].head(5).sort_values(ascending=True)\n",
    "         , color='b', align='center',alpha = 0.8, height = .7)\n",
    "plt.title('Random Forest - Top 5 Features')\n",
    "plt.xlabel('Relative Importance');"
   ]
  },
  {
   "cell_type": "markdown",
   "metadata": {},
   "source": [
    "<a id='Regression'></a>\n",
    "### Model 3 - Regression Model to Estimate Losses (Risk Assessment)"
   ]
  },
  {
   "cell_type": "markdown",
   "metadata": {},
   "source": [
    "#### Mapping RF Predictions to Current Loans"
   ]
  },
  {
   "cell_type": "code",
   "execution_count": 19,
   "metadata": {},
   "outputs": [],
   "source": [
    "#Duplicate features used in model onto new dataframe with just current loans\n",
    "\n",
    "#Filter all Current Loans\n",
    "current_loans = df1[df1['LoanStatus'] == 'Current']\n",
    "\n",
    "#List of columns from original dataset during pre-processing stage\n",
    "column_list = columns_df.tolist()\n",
    "\n",
    "#New feature dataframe with filtered columns\n",
    "df_current = current_loans[np.intersect1d(current_loans.columns, column_list)]\n",
    "\n",
    "#Same pre-processing steps to match feature set used in model\n",
    "df_current = dummies(df_current, 'EmploymentStatus')\n",
    "df_current = dummies(df_current, 'Term')\n",
    "df_current['c_Not employed'] = 0 #Current Loans did not have any unemployed borrowers so added in vector of 0's\n",
    "df_current = df_current.drop(col_list, axis=1)\n",
    "df_current = df_current.drop(deleted_columns, axis=1)"
   ]
  },
  {
   "cell_type": "code",
   "execution_count": 20,
   "metadata": {
    "scrolled": false
   },
   "outputs": [],
   "source": [
    "#Predict Loan Outcome for Current Loans using Random Forest model\n",
    "y_pred_rf_current = clf_rf.predict(df_current)\n",
    "current_loans['LoanStatus_pred'] = y_pred_rf_current"
   ]
  },
  {
   "cell_type": "markdown",
   "metadata": {},
   "source": [
    "#### Regression Model - Estimate Gross Principal Loss of Current Loans Predicted to be Default"
   ]
  },
  {
   "cell_type": "code",
   "execution_count": 21,
   "metadata": {},
   "outputs": [
    {
     "name": "stdout",
     "output_type": "stream",
     "text": [
      "R-Squared: 83.41%\n",
      "Root Mean Squared Error: 1837.41\n"
     ]
    }
   ],
   "source": [
    "#Setup Dataframe for Regression Model Comprised of all Defaulted/Chargedoff\n",
    "df_PL = df1.query('LP_GrossPrincipalLoss > 0 & LoanStatus == \"Chargedoff\" | LoanStatus == \"Defaulted\"')\n",
    "\n",
    "#Same pre-processing steps to match feature set used in model\n",
    "col_list2 = ['LoanStatus','ListingKey','LP_CustomerPayments','LP_CustomerPrincipalPayments']\n",
    "df_PL = df_PL[np.intersect1d(df_PL.columns, column_list)]\n",
    "df_PL = dummies(df_PL, 'EmploymentStatus')\n",
    "df_PL = dummies(df_PL, 'Term')\n",
    "df_PL = df_PL.drop(col_list2, axis=1)\n",
    "df_PL = df_PL.drop(deleted_columns, axis=1)\n",
    "\n",
    "#Feature/Label sets\n",
    "y_PL = df_PL.query('LP_GrossPrincipalLoss > 0').LP_GrossPrincipalLoss\n",
    "index_list = y_PL.index.tolist()\n",
    "X_PL = df_PL[df_PL.index.isin(index_list)].loc[:, df_PL.columns != 'LP_GrossPrincipalLoss']\n",
    "\n",
    "#Fit Regression Model & Output Evaluation Metrics (R^2 Score & MSE)\n",
    "from sklearn.linear_model import LinearRegression\n",
    "from sklearn.metrics import mean_squared_error\n",
    "\n",
    "reg = LinearRegression()\n",
    "reg.fit(X_PL,y_PL)\n",
    "\n",
    "print(\"R-Squared: %.2f%%\" % (reg.score(X_PL, y_PL)*100.0))\n",
    "print(\"Root Mean Squared Error:\", round(np.sqrt(mean_squared_error(y_PL, reg.predict(X_PL))),2))"
   ]
  },
  {
   "cell_type": "code",
   "execution_count": 22,
   "metadata": {},
   "outputs": [],
   "source": [
    "#Filter all Defaulted Loans from RF Model\n",
    "df_defaulted = current_loans.query('LoanStatus_pred == 2')\n",
    "\n",
    "#Setup Dataframe to match feature set of RF Model\n",
    "col_list2 = ['LoanStatus','ListingKey','LP_CustomerPayments','LP_CustomerPrincipalPayments']\n",
    "df_defaulted = df_defaulted[np.intersect1d(df_defaulted.columns, column_list)]\n",
    "df_defaulted = dummies(df_defaulted, 'EmploymentStatus')\n",
    "df_defaulted = dummies(df_defaulted, 'Term')\n",
    "df_defaulted['c_Not employed'] = 0 #Current Loans did not have any unemployed borrowers so added in vector of 0's\n",
    "df_defaulted = df_defaulted.drop(col_list2, axis=1)\n",
    "df_defaulted = df_defaulted.drop(deleted_columns, axis=1)\n",
    "\n",
    "#Apply Regression Model to Predict (Estimate) Principal Loss\n",
    "X_pred_PL = df_defaulted.loc[:, df_defaulted.columns != 'LP_GrossPrincipalLoss']\n",
    "y_pred_PL = reg.predict(X_pred_PL)\n",
    "\n",
    "df_defaulted['GrossPrincipalLoss_pred'] = y_pred_PL"
   ]
  },
  {
   "cell_type": "markdown",
   "metadata": {},
   "source": [
    "<a id='Final'></a>\n",
    "### Final Dataframe"
   ]
  },
  {
   "cell_type": "code",
   "execution_count": 23,
   "metadata": {
    "scrolled": false
   },
   "outputs": [
    {
     "data": {
      "text/html": [
       "<div>\n",
       "<style scoped>\n",
       "    .dataframe tbody tr th:only-of-type {\n",
       "        vertical-align: middle;\n",
       "    }\n",
       "\n",
       "    .dataframe tbody tr th {\n",
       "        vertical-align: top;\n",
       "    }\n",
       "\n",
       "    .dataframe thead th {\n",
       "        text-align: right;\n",
       "    }\n",
       "</style>\n",
       "<table border=\"1\" class=\"dataframe\">\n",
       "  <thead>\n",
       "    <tr style=\"text-align: right;\">\n",
       "      <th></th>\n",
       "      <th>ListingKey</th>\n",
       "      <th>Term</th>\n",
       "      <th>LoanStatus</th>\n",
       "      <th>LoanStatus_pred</th>\n",
       "      <th>GrossPrincipalLoss_pred</th>\n",
       "      <th>BorrowerAPR</th>\n",
       "      <th>LenderYield</th>\n",
       "      <th>CreditScoreRangeLower</th>\n",
       "      <th>StatedMonthlyIncome</th>\n",
       "      <th>AvailableBankcardCredit</th>\n",
       "      <th>LoanOriginalAmount</th>\n",
       "      <th>MonthlyLoanPayment</th>\n",
       "      <th>DebtToIncomeRatio</th>\n",
       "    </tr>\n",
       "  </thead>\n",
       "  <tbody>\n",
       "    <tr>\n",
       "      <td>1</td>\n",
       "      <td>10273602499503308B223C1</td>\n",
       "      <td>36</td>\n",
       "      <td>Current</td>\n",
       "      <td>Completed</td>\n",
       "      <td>0.0</td>\n",
       "      <td>0.12016</td>\n",
       "      <td>0.0820</td>\n",
       "      <td>680.0</td>\n",
       "      <td>6125.000000</td>\n",
       "      <td>10266.0</td>\n",
       "      <td>10000</td>\n",
       "      <td>318.93</td>\n",
       "      <td>0.18</td>\n",
       "    </tr>\n",
       "    <tr>\n",
       "      <td>3</td>\n",
       "      <td>0EF5356002482715299901A</td>\n",
       "      <td>36</td>\n",
       "      <td>Current</td>\n",
       "      <td>Completed</td>\n",
       "      <td>0.0</td>\n",
       "      <td>0.12528</td>\n",
       "      <td>0.0874</td>\n",
       "      <td>800.0</td>\n",
       "      <td>2875.000000</td>\n",
       "      <td>30754.0</td>\n",
       "      <td>10000</td>\n",
       "      <td>321.45</td>\n",
       "      <td>0.15</td>\n",
       "    </tr>\n",
       "    <tr>\n",
       "      <td>4</td>\n",
       "      <td>0F023589499656230C5E3E2</td>\n",
       "      <td>36</td>\n",
       "      <td>Current</td>\n",
       "      <td>Completed</td>\n",
       "      <td>0.0</td>\n",
       "      <td>0.24614</td>\n",
       "      <td>0.1985</td>\n",
       "      <td>680.0</td>\n",
       "      <td>9583.333333</td>\n",
       "      <td>695.0</td>\n",
       "      <td>15000</td>\n",
       "      <td>563.97</td>\n",
       "      <td>0.26</td>\n",
       "    </tr>\n",
       "    <tr>\n",
       "      <td>5</td>\n",
       "      <td>0F05359734824199381F61D</td>\n",
       "      <td>60</td>\n",
       "      <td>Current</td>\n",
       "      <td>Completed</td>\n",
       "      <td>0.0</td>\n",
       "      <td>0.15425</td>\n",
       "      <td>0.1214</td>\n",
       "      <td>740.0</td>\n",
       "      <td>8333.333333</td>\n",
       "      <td>86509.0</td>\n",
       "      <td>15000</td>\n",
       "      <td>342.37</td>\n",
       "      <td>0.36</td>\n",
       "    </tr>\n",
       "    <tr>\n",
       "      <td>6</td>\n",
       "      <td>0F0A3576754255009D63151</td>\n",
       "      <td>36</td>\n",
       "      <td>Current</td>\n",
       "      <td>Completed</td>\n",
       "      <td>0.0</td>\n",
       "      <td>0.31032</td>\n",
       "      <td>0.2612</td>\n",
       "      <td>680.0</td>\n",
       "      <td>2083.333333</td>\n",
       "      <td>1929.0</td>\n",
       "      <td>3000</td>\n",
       "      <td>122.67</td>\n",
       "      <td>0.27</td>\n",
       "    </tr>\n",
       "    <tr>\n",
       "      <td>...</td>\n",
       "      <td>...</td>\n",
       "      <td>...</td>\n",
       "      <td>...</td>\n",
       "      <td>...</td>\n",
       "      <td>...</td>\n",
       "      <td>...</td>\n",
       "      <td>...</td>\n",
       "      <td>...</td>\n",
       "      <td>...</td>\n",
       "      <td>...</td>\n",
       "      <td>...</td>\n",
       "      <td>...</td>\n",
       "      <td>...</td>\n",
       "    </tr>\n",
       "    <tr>\n",
       "      <td>113930</td>\n",
       "      <td>E35D3584034795373BCD69A</td>\n",
       "      <td>36</td>\n",
       "      <td>Current</td>\n",
       "      <td>Completed</td>\n",
       "      <td>0.0</td>\n",
       "      <td>0.20053</td>\n",
       "      <td>0.1539</td>\n",
       "      <td>680.0</td>\n",
       "      <td>6250.000000</td>\n",
       "      <td>1322.0</td>\n",
       "      <td>3000</td>\n",
       "      <td>106.05</td>\n",
       "      <td>0.20</td>\n",
       "    </tr>\n",
       "    <tr>\n",
       "      <td>113931</td>\n",
       "      <td>E36F36005339663245C20F8</td>\n",
       "      <td>60</td>\n",
       "      <td>Current</td>\n",
       "      <td>Completed</td>\n",
       "      <td>0.0</td>\n",
       "      <td>0.15016</td>\n",
       "      <td>0.1174</td>\n",
       "      <td>800.0</td>\n",
       "      <td>8146.666667</td>\n",
       "      <td>12056.0</td>\n",
       "      <td>25000</td>\n",
       "      <td>565.50</td>\n",
       "      <td>0.28</td>\n",
       "    </tr>\n",
       "    <tr>\n",
       "      <td>113932</td>\n",
       "      <td>E6D9357655724827169606C</td>\n",
       "      <td>36</td>\n",
       "      <td>Current</td>\n",
       "      <td>Completed</td>\n",
       "      <td>0.0</td>\n",
       "      <td>0.22354</td>\n",
       "      <td>0.1764</td>\n",
       "      <td>700.0</td>\n",
       "      <td>4333.333333</td>\n",
       "      <td>1886.0</td>\n",
       "      <td>10000</td>\n",
       "      <td>364.74</td>\n",
       "      <td>0.13</td>\n",
       "    </tr>\n",
       "    <tr>\n",
       "      <td>113934</td>\n",
       "      <td>E6E13596170052029692BB1</td>\n",
       "      <td>60</td>\n",
       "      <td>Current</td>\n",
       "      <td>Completed</td>\n",
       "      <td>0.0</td>\n",
       "      <td>0.23984</td>\n",
       "      <td>0.2050</td>\n",
       "      <td>700.0</td>\n",
       "      <td>2875.000000</td>\n",
       "      <td>7853.0</td>\n",
       "      <td>10000</td>\n",
       "      <td>273.35</td>\n",
       "      <td>0.51</td>\n",
       "    </tr>\n",
       "    <tr>\n",
       "      <td>113936</td>\n",
       "      <td>E6ED3600409833199F711B7</td>\n",
       "      <td>36</td>\n",
       "      <td>Current</td>\n",
       "      <td>Completed</td>\n",
       "      <td>0.0</td>\n",
       "      <td>0.13189</td>\n",
       "      <td>0.0939</td>\n",
       "      <td>680.0</td>\n",
       "      <td>4583.333333</td>\n",
       "      <td>675.0</td>\n",
       "      <td>2000</td>\n",
       "      <td>64.90</td>\n",
       "      <td>0.23</td>\n",
       "    </tr>\n",
       "  </tbody>\n",
       "</table>\n",
       "<p>50987 rows × 13 columns</p>\n",
       "</div>"
      ],
      "text/plain": [
       "                     ListingKey  Term LoanStatus LoanStatus_pred  \\\n",
       "1       10273602499503308B223C1    36    Current       Completed   \n",
       "3       0EF5356002482715299901A    36    Current       Completed   \n",
       "4       0F023589499656230C5E3E2    36    Current       Completed   \n",
       "5       0F05359734824199381F61D    60    Current       Completed   \n",
       "6       0F0A3576754255009D63151    36    Current       Completed   \n",
       "...                         ...   ...        ...             ...   \n",
       "113930  E35D3584034795373BCD69A    36    Current       Completed   \n",
       "113931  E36F36005339663245C20F8    60    Current       Completed   \n",
       "113932  E6D9357655724827169606C    36    Current       Completed   \n",
       "113934  E6E13596170052029692BB1    60    Current       Completed   \n",
       "113936  E6ED3600409833199F711B7    36    Current       Completed   \n",
       "\n",
       "        GrossPrincipalLoss_pred  BorrowerAPR  LenderYield  \\\n",
       "1                           0.0      0.12016       0.0820   \n",
       "3                           0.0      0.12528       0.0874   \n",
       "4                           0.0      0.24614       0.1985   \n",
       "5                           0.0      0.15425       0.1214   \n",
       "6                           0.0      0.31032       0.2612   \n",
       "...                         ...          ...          ...   \n",
       "113930                      0.0      0.20053       0.1539   \n",
       "113931                      0.0      0.15016       0.1174   \n",
       "113932                      0.0      0.22354       0.1764   \n",
       "113934                      0.0      0.23984       0.2050   \n",
       "113936                      0.0      0.13189       0.0939   \n",
       "\n",
       "        CreditScoreRangeLower  StatedMonthlyIncome  AvailableBankcardCredit  \\\n",
       "1                       680.0          6125.000000                  10266.0   \n",
       "3                       800.0          2875.000000                  30754.0   \n",
       "4                       680.0          9583.333333                    695.0   \n",
       "5                       740.0          8333.333333                  86509.0   \n",
       "6                       680.0          2083.333333                   1929.0   \n",
       "...                       ...                  ...                      ...   \n",
       "113930                  680.0          6250.000000                   1322.0   \n",
       "113931                  800.0          8146.666667                  12056.0   \n",
       "113932                  700.0          4333.333333                   1886.0   \n",
       "113934                  700.0          2875.000000                   7853.0   \n",
       "113936                  680.0          4583.333333                    675.0   \n",
       "\n",
       "        LoanOriginalAmount  MonthlyLoanPayment  DebtToIncomeRatio  \n",
       "1                    10000              318.93               0.18  \n",
       "3                    10000              321.45               0.15  \n",
       "4                    15000              563.97               0.26  \n",
       "5                    15000              342.37               0.36  \n",
       "6                     3000              122.67               0.27  \n",
       "...                    ...                 ...                ...  \n",
       "113930                3000              106.05               0.20  \n",
       "113931               25000              565.50               0.28  \n",
       "113932               10000              364.74               0.13  \n",
       "113934               10000              273.35               0.51  \n",
       "113936                2000               64.90               0.23  \n",
       "\n",
       "[50987 rows x 13 columns]"
      ]
     },
     "execution_count": 23,
     "metadata": {},
     "output_type": "execute_result"
    }
   ],
   "source": [
    "#List of all Columns for Final Dataframe\n",
    "final_col_list = ['ListingKey','Term','LoanStatus','LoanStatus_pred','BorrowerAPR','LenderYield','CreditScoreRangeLower',\n",
    "                 'StatedMonthlyIncome','AvailableBankcardCredit','LoanOriginalAmount','MonthlyLoanPayment','DebtToIncomeRatio']\n",
    "df_final = current_loans[final_col_list]\n",
    "\n",
    "#Clean Dataframe\n",
    "df_final['LoanStatus_pred'] = df_final['LoanStatus_pred'].replace({0:'Completed', 2: \"Defaulted\"})\n",
    "\n",
    "#Add Predicted Losses Column\n",
    "df_final = df_final.join(df_defaulted['GrossPrincipalLoss_pred'].to_frame())\n",
    "df_final['GrossPrincipalLoss_pred'].fillna(0,inplace=True)\n",
    "\n",
    "#Reorder Column\n",
    "cols = df_final.columns.to_list()\n",
    "cols.insert(4, cols.pop(cols.index('GrossPrincipalLoss_pred')))\n",
    "df_final = df_final.reindex(columns= cols)\n",
    "df_final"
   ]
  },
  {
   "cell_type": "code",
   "execution_count": 24,
   "metadata": {},
   "outputs": [],
   "source": [
    "df_final.to_csv('Credit Risk Modeling.csv')"
   ]
  }
 ],
 "metadata": {
  "kernelspec": {
   "display_name": "Python 3",
   "language": "python",
   "name": "python3"
  },
  "language_info": {
   "codemirror_mode": {
    "name": "ipython",
    "version": 3
   },
   "file_extension": ".py",
   "mimetype": "text/x-python",
   "name": "python",
   "nbconvert_exporter": "python",
   "pygments_lexer": "ipython3",
   "version": "3.7.4"
  }
 },
 "nbformat": 4,
 "nbformat_minor": 2
}
